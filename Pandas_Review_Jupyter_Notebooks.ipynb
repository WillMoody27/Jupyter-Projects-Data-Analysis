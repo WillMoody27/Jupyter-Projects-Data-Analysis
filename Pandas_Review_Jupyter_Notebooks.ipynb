{
 "cells": [
  {
   "cell_type": "markdown",
   "id": "c61ee484-1158-4a2a-b4a3-0ef64804f97e",
   "metadata": {},
   "source": [
    "# Pandas (Review #1)"
   ]
  },
  {
   "cell_type": "markdown",
   "id": "04810ceb-11b2-477d-8508-827da7a1a3fe",
   "metadata": {},
   "source": [
    "##### By: William HM"
   ]
  },
  {
   "cell_type": "markdown",
   "id": "0cb007d4-ff0e-4f16-93b6-67c09c2d00a9",
   "metadata": {},
   "source": [
    "**Data Analytics Prep: This is to become familiar with Pandas library and working with Series and DataFrames**"
   ]
  },
  {
   "cell_type": "code",
   "execution_count": 1,
   "id": "d3229657-5192-4a9e-923f-2be59166667a",
   "metadata": {},
   "outputs": [],
   "source": [
    "import numpy as np"
   ]
  },
  {
   "cell_type": "code",
   "execution_count": 2,
   "id": "5d16cb9f-287e-49ba-8b34-c7c12faa99fe",
   "metadata": {},
   "outputs": [],
   "source": [
    "import pandas as pd"
   ]
  },
  {
   "cell_type": "code",
   "execution_count": 3,
   "id": "7aacc8d1-3f1e-4208-99f0-7314c4c069c4",
   "metadata": {},
   "outputs": [],
   "source": [
    "labels = ['a','b','c']\n",
    "my_data = [10,20,30]\n",
    "arr = np.array(my_data)\n",
    "d = {'a':10, 'b':20, 'c':30}"
   ]
  },
  {
   "cell_type": "code",
   "execution_count": 34,
   "id": "06842965-a48d-4503-8aa1-ff9d4deb0362",
   "metadata": {},
   "outputs": [
    {
     "data": {
      "text/plain": [
       "0    10\n",
       "1    20\n",
       "2    30\n",
       "dtype: int64"
      ]
     },
     "execution_count": 34,
     "metadata": {},
     "output_type": "execute_result"
    }
   ],
   "source": [
    "# Series\n",
    "pd.Series(data = my_data)"
   ]
  },
  {
   "cell_type": "code",
   "execution_count": 35,
   "id": "f9dbe7fd-3435-4ade-b336-bd4f1167118b",
   "metadata": {},
   "outputs": [
    {
     "data": {
      "text/plain": [
       "a    10\n",
       "b    20\n",
       "c    30\n",
       "dtype: int64"
      ]
     },
     "execution_count": 35,
     "metadata": {},
     "output_type": "execute_result"
    }
   ],
   "source": [
    "pd.Series(data=my_data, index=labels)"
   ]
  },
  {
   "cell_type": "code",
   "execution_count": 11,
   "id": "744ccbca-0b29-4a64-910a-891c9909a04b",
   "metadata": {},
   "outputs": [
    {
     "data": {
      "text/plain": [
       "0    10\n",
       "1    20\n",
       "2    30\n",
       "dtype: int64"
      ]
     },
     "execution_count": 11,
     "metadata": {},
     "output_type": "execute_result"
    }
   ],
   "source": [
    "# Order matters\n",
    "pd.Series(my_data)"
   ]
  },
  {
   "cell_type": "code",
   "execution_count": 13,
   "id": "1a590bb0-b39d-40d6-9e18-6c14368e7918",
   "metadata": {},
   "outputs": [
    {
     "data": {
      "text/plain": [
       "a    10\n",
       "b    20\n",
       "c    30\n",
       "dtype: int64"
      ]
     },
     "execution_count": 13,
     "metadata": {},
     "output_type": "execute_result"
    }
   ],
   "source": [
    "pd.Series(arr, labels)"
   ]
  },
  {
   "cell_type": "code",
   "execution_count": 14,
   "id": "79e265ef-5ad5-43dd-aea5-2bdbf98b3ef7",
   "metadata": {},
   "outputs": [
    {
     "data": {
      "text/plain": [
       "a    10\n",
       "b    20\n",
       "c    30\n",
       "dtype: int64"
      ]
     },
     "execution_count": 14,
     "metadata": {},
     "output_type": "execute_result"
    }
   ],
   "source": [
    "pd.Series(d) # Pandas will take the keys of dict and set as index and set the values to corresp point"
   ]
  },
  {
   "cell_type": "code",
   "execution_count": 15,
   "id": "d17db4df-b9a8-4d4a-a654-0fe91ae29b3c",
   "metadata": {},
   "outputs": [
    {
     "data": {
      "text/plain": [
       "{'a': 10, 'b': 20, 'c': 30}"
      ]
     },
     "execution_count": 15,
     "metadata": {},
     "output_type": "execute_result"
    }
   ],
   "source": [
    "d"
   ]
  },
  {
   "cell_type": "code",
   "execution_count": 16,
   "id": "1072cdc7-4007-4506-9323-81660f4e7cb2",
   "metadata": {},
   "outputs": [
    {
     "data": {
      "text/plain": [
       "0    a\n",
       "1    b\n",
       "2    c\n",
       "dtype: object"
      ]
     },
     "execution_count": 16,
     "metadata": {},
     "output_type": "execute_result"
    }
   ],
   "source": [
    "pd.Series(data=labels)"
   ]
  },
  {
   "cell_type": "code",
   "execution_count": 18,
   "id": "dab0b8d4-c79c-4f8f-a2b9-9883fd6680cd",
   "metadata": {},
   "outputs": [
    {
     "data": {
      "text/plain": [
       "0      <built-in function sum>\n",
       "1    <built-in function print>\n",
       "2      <built-in function len>\n",
       "dtype: object"
      ]
     },
     "execution_count": 18,
     "metadata": {},
     "output_type": "execute_result"
    }
   ],
   "source": [
    "pd.Series(data=[sum, print, len])"
   ]
  },
  {
   "cell_type": "code",
   "execution_count": 19,
   "id": "f2d76c53-8424-4884-8cfd-cb87f10d9cd6",
   "metadata": {},
   "outputs": [],
   "source": [
    "# Grab info from series\n",
    "ser1 = pd.Series([1,2,3,4], ['USA', 'Germany','USSR','Japan'])"
   ]
  },
  {
   "cell_type": "code",
   "execution_count": 20,
   "id": "25ecdd30-0090-4f06-902e-8ab253f6a2df",
   "metadata": {},
   "outputs": [
    {
     "data": {
      "text/plain": [
       "USA        1\n",
       "Germany    2\n",
       "USSR       3\n",
       "Japan      4\n",
       "dtype: int64"
      ]
     },
     "execution_count": 20,
     "metadata": {},
     "output_type": "execute_result"
    }
   ],
   "source": [
    "ser1"
   ]
  },
  {
   "cell_type": "code",
   "execution_count": 21,
   "id": "c8f0517a-58cc-4b3a-89fd-b925f76c9bb5",
   "metadata": {},
   "outputs": [],
   "source": [
    "ser2 = pd.Series([1,2,5,4], ['USA', 'Germany','France','Japan'])"
   ]
  },
  {
   "cell_type": "code",
   "execution_count": 22,
   "id": "e34e3e39-0a7d-448c-9c4a-1a0fbebaa134",
   "metadata": {},
   "outputs": [
    {
     "data": {
      "text/plain": [
       "USA        1\n",
       "Germany    2\n",
       "France     5\n",
       "Japan      4\n",
       "dtype: int64"
      ]
     },
     "execution_count": 22,
     "metadata": {},
     "output_type": "execute_result"
    }
   ],
   "source": [
    "ser2"
   ]
  },
  {
   "cell_type": "code",
   "execution_count": 24,
   "id": "f8477045-cf29-4dfa-8802-19b5920d939a",
   "metadata": {},
   "outputs": [
    {
     "data": {
      "text/plain": [
       "1"
      ]
     },
     "execution_count": 24,
     "metadata": {},
     "output_type": "execute_result"
    }
   ],
   "source": [
    "ser1['USA'] # Should return the value assoc. with USA"
   ]
  },
  {
   "cell_type": "code",
   "execution_count": 25,
   "id": "f79f0b64-3d78-41dc-af0a-679e23e7e30b",
   "metadata": {},
   "outputs": [],
   "source": [
    "ser3 = pd.Series(data=labels)"
   ]
  },
  {
   "cell_type": "code",
   "execution_count": 29,
   "id": "29f29d64-1440-49e9-a611-eb158e3bb769",
   "metadata": {},
   "outputs": [
    {
     "data": {
      "text/plain": [
       "'a'"
      ]
     },
     "execution_count": 29,
     "metadata": {},
     "output_type": "execute_result"
    }
   ],
   "source": [
    "ser3[0]"
   ]
  },
  {
   "cell_type": "code",
   "execution_count": 30,
   "id": "77f1be77-2091-47ad-ad9a-5734b7e10e5b",
   "metadata": {},
   "outputs": [
    {
     "data": {
      "text/plain": [
       "France     NaN\n",
       "Germany    4.0\n",
       "Japan      8.0\n",
       "USA        2.0\n",
       "USSR       NaN\n",
       "dtype: float64"
      ]
     },
     "execution_count": 30,
     "metadata": {},
     "output_type": "execute_result"
    }
   ],
   "source": [
    "ser1 + ser2"
   ]
  },
  {
   "cell_type": "code",
   "execution_count": 32,
   "id": "39855502-0b0b-46cb-8eb3-d761853d58b8",
   "metadata": {},
   "outputs": [],
   "source": [
    "# NOTE: when performing ops with pandas, ints are converted to floats"
   ]
  },
  {
   "cell_type": "code",
   "execution_count": null,
   "id": "56812c79-53fc-4b24-b490-22a31ad48225",
   "metadata": {},
   "outputs": [],
   "source": []
  },
  {
   "cell_type": "code",
   "execution_count": null,
   "id": "dc71d70e-c681-440d-a74d-41d55c933188",
   "metadata": {},
   "outputs": [],
   "source": []
  },
  {
   "cell_type": "code",
   "execution_count": null,
   "id": "af23ddcf-8353-4b53-a162-66d6cdefcfe2",
   "metadata": {},
   "outputs": [],
   "source": []
  }
 ],
 "metadata": {
  "kernelspec": {
   "display_name": "Python 3 (ipykernel)",
   "language": "python",
   "name": "python3"
  },
  "language_info": {
   "codemirror_mode": {
    "name": "ipython",
    "version": 3
   },
   "file_extension": ".py",
   "mimetype": "text/x-python",
   "name": "python",
   "nbconvert_exporter": "python",
   "pygments_lexer": "ipython3",
   "version": "3.11.7"
  }
 },
 "nbformat": 4,
 "nbformat_minor": 5
}
