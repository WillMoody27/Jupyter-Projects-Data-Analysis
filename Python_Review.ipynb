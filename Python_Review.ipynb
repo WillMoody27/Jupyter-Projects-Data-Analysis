{
 "cells": [
  {
   "cell_type": "markdown",
   "id": "094b05b0-e8d1-474c-b12f-a163cd864a39",
   "metadata": {},
   "source": [
    "# Python (Review)"
   ]
  },
  {
   "cell_type": "code",
   "execution_count": 187,
   "id": "053944f6-3d73-4c06-998c-a3a67e8f5aa6",
   "metadata": {},
   "outputs": [],
   "source": [
    "x = 1"
   ]
  },
  {
   "cell_type": "code",
   "execution_count": 188,
   "id": "be0999dc-0db9-4b74-a31e-f2a886991b4b",
   "metadata": {},
   "outputs": [
    {
     "name": "stdout",
     "output_type": "stream",
     "text": [
      "This is a value of 1\n"
     ]
    }
   ],
   "source": [
    "print(f'This is a value of {x}')"
   ]
  },
  {
   "cell_type": "code",
   "execution_count": 189,
   "id": "e287b31e-3362-4eba-86a4-01a8a8e3f699",
   "metadata": {},
   "outputs": [],
   "source": [
    "name = 'Will'\n",
    "num = 15"
   ]
  },
  {
   "cell_type": "code",
   "execution_count": 190,
   "id": "0e1e09c4-5440-4f30-a8d4-284de31a0990",
   "metadata": {},
   "outputs": [
    {
     "name": "stdout",
     "output_type": "stream",
     "text": [
      "My fav num is 15, and my name is Will\n"
     ]
    }
   ],
   "source": [
    "print(f'My fav num is {num}, and my name is {name}')"
   ]
  },
  {
   "cell_type": "code",
   "execution_count": 191,
   "id": "fd359d35-d846-477c-8503-db4089044771",
   "metadata": {},
   "outputs": [
    {
     "name": "stdout",
     "output_type": "stream",
     "text": [
      "My fav num is 1, and my name is 2\n"
     ]
    }
   ],
   "source": [
    "print('My fav num is {one}, and my name is {two}'.format(one=1, two=2))"
   ]
  },
  {
   "cell_type": "code",
   "execution_count": 192,
   "id": "395e078b-7273-4ec0-8398-b01c20f4e5c2",
   "metadata": {},
   "outputs": [],
   "source": [
    "s = 'hello'"
   ]
  },
  {
   "cell_type": "markdown",
   "id": "f8a60a51-380e-4dc4-b2b1-9caf89504b90",
   "metadata": {},
   "source": [
    "# Indexing"
   ]
  },
  {
   "cell_type": "code",
   "execution_count": 193,
   "id": "cd9a887d-b670-45c0-8d89-5855f623c948",
   "metadata": {},
   "outputs": [
    {
     "data": {
      "text/plain": [
       "'h'"
      ]
     },
     "execution_count": 193,
     "metadata": {},
     "output_type": "execute_result"
    }
   ],
   "source": [
    "s[0]"
   ]
  },
  {
   "cell_type": "code",
   "execution_count": 194,
   "id": "bb5c7de8-bd9f-4857-bc72-473eae441163",
   "metadata": {},
   "outputs": [
    {
     "data": {
      "text/plain": [
       "'hello'"
      ]
     },
     "execution_count": 194,
     "metadata": {},
     "output_type": "execute_result"
    }
   ],
   "source": [
    "s[0:]"
   ]
  },
  {
   "cell_type": "markdown",
   "id": "b3cb45c3-5843-456f-b9e5-2ee551b40a26",
   "metadata": {},
   "source": [
    "### List"
   ]
  },
  {
   "cell_type": "code",
   "execution_count": 195,
   "id": "a515a980-6d1f-4816-9d48-423edb7d4efa",
   "metadata": {},
   "outputs": [],
   "source": [
    "my_list = ['a','b','c']"
   ]
  },
  {
   "cell_type": "code",
   "execution_count": 196,
   "id": "11892bf6-b7d5-463a-a6e9-c5f5f0b8be58",
   "metadata": {},
   "outputs": [],
   "source": [
    "my_list.append('d')"
   ]
  },
  {
   "cell_type": "code",
   "execution_count": 197,
   "id": "22419454-ddef-41c2-8da8-495a87307078",
   "metadata": {},
   "outputs": [
    {
     "data": {
      "text/plain": [
       "['a', 'b', 'c', 'd']"
      ]
     },
     "execution_count": 197,
     "metadata": {},
     "output_type": "execute_result"
    }
   ],
   "source": [
    "my_list"
   ]
  },
  {
   "cell_type": "code",
   "execution_count": 198,
   "id": "10919c31-a899-4be5-8ef7-fb1576cc24b4",
   "metadata": {},
   "outputs": [
    {
     "data": {
      "text/plain": [
       "['a', 'b', 'c']"
      ]
     },
     "execution_count": 198,
     "metadata": {},
     "output_type": "execute_result"
    }
   ],
   "source": [
    "my_list[0:3]"
   ]
  },
  {
   "cell_type": "code",
   "execution_count": 199,
   "id": "a19355dd-6610-48db-8422-41211420bc51",
   "metadata": {},
   "outputs": [],
   "source": [
    "nested_list = [1,2,[3,4]]"
   ]
  },
  {
   "cell_type": "code",
   "execution_count": 200,
   "id": "a3900bda-120b-4718-9331-8b0f94ed182b",
   "metadata": {},
   "outputs": [
    {
     "data": {
      "text/plain": [
       "[3]"
      ]
     },
     "execution_count": 200,
     "metadata": {},
     "output_type": "execute_result"
    }
   ],
   "source": [
    "nested_list[2][0:1] # get 3 from the nested lists"
   ]
  },
  {
   "cell_type": "code",
   "execution_count": 201,
   "id": "ec293d04-2f53-458b-bc3f-819458da9da1",
   "metadata": {},
   "outputs": [],
   "source": [
    "nested_list_two = [1,2,[3,4,[5,6]]]"
   ]
  },
  {
   "cell_type": "markdown",
   "id": "08d86d6b-5211-4604-9063-28a51484d1c2",
   "metadata": {},
   "source": [
    "# Dictionaries"
   ]
  },
  {
   "cell_type": "code",
   "execution_count": 202,
   "id": "e3def357-4444-4feb-9553-696b8e81c25e",
   "metadata": {},
   "outputs": [],
   "source": [
    "d = {\n",
    "    'key': 'value',\n",
    "    'key2':'value2'\n",
    "}"
   ]
  },
  {
   "cell_type": "code",
   "execution_count": 203,
   "id": "cdbd1def-81cd-4f7c-8edf-c8652e6e30c3",
   "metadata": {},
   "outputs": [
    {
     "data": {
      "text/plain": [
       "'value2'"
      ]
     },
     "execution_count": 203,
     "metadata": {},
     "output_type": "execute_result"
    }
   ],
   "source": [
    "d['key2']"
   ]
  },
  {
   "cell_type": "code",
   "execution_count": 204,
   "id": "e3b0459c-fd14-42f4-aa6c-6de391335572",
   "metadata": {},
   "outputs": [
    {
     "data": {
      "text/plain": [
       "dict_items([('key', 'value'), ('key2', 'value2')])"
      ]
     },
     "execution_count": 204,
     "metadata": {},
     "output_type": "execute_result"
    }
   ],
   "source": [
    "d.items()"
   ]
  },
  {
   "cell_type": "code",
   "execution_count": 205,
   "id": "29ca8696-78e2-4cf9-b987-1a2f78150105",
   "metadata": {},
   "outputs": [
    {
     "data": {
      "text/plain": [
       "dict_keys(['key', 'key2'])"
      ]
     },
     "execution_count": 205,
     "metadata": {},
     "output_type": "execute_result"
    }
   ],
   "source": [
    "d.keys()"
   ]
  },
  {
   "cell_type": "code",
   "execution_count": 206,
   "id": "3077edd2-d285-41fd-9da5-f76a3190ca75",
   "metadata": {},
   "outputs": [],
   "source": [
    "d = {\n",
    "    'k1': [1,2,3]\n",
    "}"
   ]
  },
  {
   "cell_type": "code",
   "execution_count": 207,
   "id": "576abb08-f9d0-431f-a66d-07f4b7f47a8e",
   "metadata": {},
   "outputs": [
    {
     "data": {
      "text/plain": [
       "[1, 2, 3]"
      ]
     },
     "execution_count": 207,
     "metadata": {},
     "output_type": "execute_result"
    }
   ],
   "source": [
    "d['k1']"
   ]
  },
  {
   "cell_type": "code",
   "execution_count": 208,
   "id": "16065bed-4330-443c-99bc-c96018003d71",
   "metadata": {},
   "outputs": [
    {
     "data": {
      "text/plain": [
       "2"
      ]
     },
     "execution_count": 208,
     "metadata": {},
     "output_type": "execute_result"
    }
   ],
   "source": [
    "d['k1'][1]"
   ]
  },
  {
   "cell_type": "markdown",
   "id": "828ec8ef-e0a5-4689-a781-aeeb4436cb6d",
   "metadata": {},
   "source": [
    "#### Nested Dictonaries"
   ]
  },
  {
   "cell_type": "code",
   "execution_count": 209,
   "id": "fd1efb30-ae67-4ea7-b512-1f721c303578",
   "metadata": {},
   "outputs": [],
   "source": [
    "d = {'k1': {'innerkey': [1,2,3]}}"
   ]
  },
  {
   "cell_type": "code",
   "execution_count": 210,
   "id": "6d811ec4-8aac-4f5f-8ce5-ddf91d552279",
   "metadata": {},
   "outputs": [
    {
     "data": {
      "text/plain": [
       "{'innerkey': [1, 2, 3]}"
      ]
     },
     "execution_count": 210,
     "metadata": {},
     "output_type": "execute_result"
    }
   ],
   "source": [
    "d['k1']"
   ]
  },
  {
   "cell_type": "code",
   "execution_count": 211,
   "id": "19393ce6-bac2-416d-9c55-b85d50e6e2d5",
   "metadata": {},
   "outputs": [
    {
     "data": {
      "text/plain": [
       "[1, 2, 3]"
      ]
     },
     "execution_count": 211,
     "metadata": {},
     "output_type": "execute_result"
    }
   ],
   "source": [
    "d['k1']['innerkey']"
   ]
  },
  {
   "cell_type": "code",
   "execution_count": 212,
   "id": "7be95df6-e7c1-4db0-bee0-7cf05a7c1d5c",
   "metadata": {},
   "outputs": [
    {
     "data": {
      "text/plain": [
       "3"
      ]
     },
     "execution_count": 212,
     "metadata": {},
     "output_type": "execute_result"
    }
   ],
   "source": [
    "d['k1']['innerkey'][2]"
   ]
  },
  {
   "cell_type": "markdown",
   "id": "4074922c-e9a2-4d1d-b4fc-2264fbe2b309",
   "metadata": {},
   "source": [
    "# Tuples"
   ]
  },
  {
   "cell_type": "code",
   "execution_count": 213,
   "id": "92cdc154-d1af-4984-9e5e-17282cd74b2b",
   "metadata": {},
   "outputs": [],
   "source": [
    "t = (1,2,3) # are immutable -> Cannot be changed"
   ]
  },
  {
   "cell_type": "code",
   "execution_count": 214,
   "id": "4c5ff309-814d-4ced-aabf-c0f567433261",
   "metadata": {},
   "outputs": [
    {
     "data": {
      "text/plain": [
       "1"
      ]
     },
     "execution_count": 214,
     "metadata": {},
     "output_type": "execute_result"
    }
   ],
   "source": [
    "t[0]"
   ]
  },
  {
   "cell_type": "markdown",
   "id": "5fe18ed2-af76-4dce-9942-4c77f9f96f30",
   "metadata": {},
   "source": [
    "# Sets"
   ]
  },
  {
   "cell_type": "code",
   "execution_count": 215,
   "id": "1aeddc5c-897b-4b0b-bad5-8d69744005f0",
   "metadata": {},
   "outputs": [
    {
     "data": {
      "text/plain": [
       "{1, 2, 3, 4, 5, 6}"
      ]
     },
     "execution_count": 215,
     "metadata": {},
     "output_type": "execute_result"
    }
   ],
   "source": [
    "{1,2,2,2,2,4,4,4,3,5,6} # Set is defined by only unique elements"
   ]
  },
  {
   "cell_type": "code",
   "execution_count": 216,
   "id": "c022db7b-ed03-4e31-91cf-7d04c2cec715",
   "metadata": {},
   "outputs": [],
   "source": [
    "# Add elements\n",
    "s = {1,2,3,4}"
   ]
  },
  {
   "cell_type": "code",
   "execution_count": 217,
   "id": "9d573b9b-01ff-4bb2-8e97-a3e6d0cd289d",
   "metadata": {},
   "outputs": [
    {
     "data": {
      "text/plain": [
       "{1, 2, 3, 4, 5}"
      ]
     },
     "execution_count": 217,
     "metadata": {},
     "output_type": "execute_result"
    }
   ],
   "source": [
    "s.add(5)\n",
    "s"
   ]
  },
  {
   "cell_type": "markdown",
   "id": "a46c8edc-49a8-4020-baab-5e219d131ce7",
   "metadata": {},
   "source": [
    "# Comparison Operations"
   ]
  },
  {
   "cell_type": "code",
   "execution_count": 218,
   "id": "b85018ad-80a6-4945-8871-d4720806033c",
   "metadata": {},
   "outputs": [
    {
     "data": {
      "text/plain": [
       "True"
      ]
     },
     "execution_count": 218,
     "metadata": {},
     "output_type": "execute_result"
    }
   ],
   "source": [
    "1 == 1"
   ]
  },
  {
   "cell_type": "code",
   "execution_count": 219,
   "id": "9e1d8fa2-f77e-4e75-927a-b2c0fe5b5504",
   "metadata": {},
   "outputs": [
    {
     "data": {
      "text/plain": [
       "True"
      ]
     },
     "execution_count": 219,
     "metadata": {},
     "output_type": "execute_result"
    }
   ],
   "source": [
    "1 != 0"
   ]
  },
  {
   "cell_type": "code",
   "execution_count": 220,
   "id": "5997868e-6c0a-43cd-8147-0406a6238aea",
   "metadata": {},
   "outputs": [
    {
     "data": {
      "text/plain": [
       "True"
      ]
     },
     "execution_count": 220,
     "metadata": {},
     "output_type": "execute_result"
    }
   ],
   "source": [
    "1 >= 1 and 1 != 4 # both has to be true"
   ]
  },
  {
   "cell_type": "code",
   "execution_count": 221,
   "id": "f0ab8475-acee-4574-841e-2dcb1aeac0a9",
   "metadata": {},
   "outputs": [
    {
     "data": {
      "text/plain": [
       "True"
      ]
     },
     "execution_count": 221,
     "metadata": {},
     "output_type": "execute_result"
    }
   ],
   "source": [
    "1 >= 1 or 1 == 4 # only one has to be true"
   ]
  },
  {
   "cell_type": "markdown",
   "id": "2d3910d3-c96d-4554-9c40-bd61e09dee8c",
   "metadata": {},
   "source": [
    "# Conditionals"
   ]
  },
  {
   "cell_type": "code",
   "execution_count": 222,
   "id": "f2dba7ff-08b1-476e-a7a0-cb9ef126e69e",
   "metadata": {},
   "outputs": [
    {
     "name": "stdout",
     "output_type": "stream",
     "text": [
      "yessss\n"
     ]
    }
   ],
   "source": [
    "if 1 < 2:\n",
    "    print('yessss')"
   ]
  },
  {
   "cell_type": "code",
   "execution_count": 223,
   "id": "75033793-f3af-467b-a8d4-3f816e09acdf",
   "metadata": {},
   "outputs": [],
   "source": [
    "if True: \n",
    "    x = 2 + 2\n",
    "    x"
   ]
  },
  {
   "cell_type": "code",
   "execution_count": 224,
   "id": "1570ee84-9191-4317-a6f1-7cede3ee9712",
   "metadata": {},
   "outputs": [
    {
     "name": "stdout",
     "output_type": "stream",
     "text": [
      "middle\n"
     ]
    }
   ],
   "source": [
    "if 1 == 2: \n",
    "    print('first')\n",
    "elif 3 == 3: \n",
    "    print('middle')\n",
    "else: \n",
    "    print('last')"
   ]
  },
  {
   "cell_type": "markdown",
   "id": "38f67b0b-0f34-40f8-888d-33ed46a84ba3",
   "metadata": {},
   "source": [
    "# Part 3 Fundamentals of Python"
   ]
  },
  {
   "cell_type": "code",
   "execution_count": 225,
   "id": "b022347a-947e-4895-aacc-e83192ee0d99",
   "metadata": {},
   "outputs": [
    {
     "name": "stdout",
     "output_type": "stream",
     "text": [
      "1\n",
      "2\n",
      "3\n",
      "4\n",
      "5\n"
     ]
    }
   ],
   "source": [
    "seq = [1,2,3,4,5]\n",
    "for i in seq: \n",
    "    print(i)"
   ]
  },
  {
   "cell_type": "code",
   "execution_count": 226,
   "id": "b42fc0cc-8da2-499f-86f8-8102883864f7",
   "metadata": {},
   "outputs": [
    {
     "name": "stdout",
     "output_type": "stream",
     "text": [
      "i is: 1\n",
      "i is: 2\n",
      "i is: 3\n",
      "i is: 4\n",
      "i is: 5\n"
     ]
    }
   ],
   "source": [
    "i = 1\n",
    "\n",
    "while i <= 5: \n",
    "    print(f'i is: {i}')\n",
    "    i = i + 1"
   ]
  },
  {
   "cell_type": "code",
   "execution_count": 227,
   "id": "333c22c4-0d18-46e4-a6ce-abb0e3d12d8f",
   "metadata": {},
   "outputs": [],
   "source": [
    "# Range Functions"
   ]
  },
  {
   "cell_type": "code",
   "execution_count": null,
   "id": "f05f503f-59c5-4175-ba5a-7e885c62c622",
   "metadata": {},
   "outputs": [],
   "source": []
  },
  {
   "cell_type": "raw",
   "id": "29f8d983-7a78-474d-ac6d-9d3630680056",
   "metadata": {},
   "source": [
    "range(0,5)"
   ]
  },
  {
   "cell_type": "code",
   "execution_count": 244,
   "id": "82eba6b1-dc95-470f-8524-6f5d52aa89b0",
   "metadata": {},
   "outputs": [
    {
     "name": "stdout",
     "output_type": "stream",
     "text": [
      "0\n",
      "1\n",
      "2\n",
      "3\n",
      "4\n"
     ]
    }
   ],
   "source": [
    "for x in range(0,5): \n",
    "    print(x)"
   ]
  },
  {
   "cell_type": "code",
   "execution_count": 247,
   "id": "91059bc9-1ada-4dc5-954a-f9d58173faa4",
   "metadata": {},
   "outputs": [
    {
     "ename": "TypeError",
     "evalue": "'list' object is not callable",
     "output_type": "error",
     "traceback": [
      "\u001b[0;31m---------------------------------------------------------------------------\u001b[0m",
      "\u001b[0;31mTypeError\u001b[0m                                 Traceback (most recent call last)",
      "Cell \u001b[0;32mIn[247], line 1\u001b[0m\n\u001b[0;32m----> 1\u001b[0m \u001b[38;5;28mlist\u001b[39m(\u001b[38;5;28mrange\u001b[39m(\u001b[38;5;241m0\u001b[39m,\u001b[38;5;241m5\u001b[39m))\n",
      "\u001b[0;31mTypeError\u001b[0m: 'list' object is not callable"
     ]
    }
   ],
   "source": [
    "list(range(0,5))"
   ]
  },
  {
   "cell_type": "code",
   "execution_count": 248,
   "id": "8f80dcd0-ebe3-42b9-a80e-0e20d61096f3",
   "metadata": {},
   "outputs": [
    {
     "ename": "TypeError",
     "evalue": "'list' object is not callable",
     "output_type": "error",
     "traceback": [
      "\u001b[0;31m---------------------------------------------------------------------------\u001b[0m",
      "\u001b[0;31mTypeError\u001b[0m                                 Traceback (most recent call last)",
      "Cell \u001b[0;32mIn[248], line 1\u001b[0m\n\u001b[0;32m----> 1\u001b[0m \u001b[38;5;28mlist\u001b[39m(\u001b[38;5;28mrange\u001b[39m(\u001b[38;5;241m10\u001b[39m))\n",
      "\u001b[0;31mTypeError\u001b[0m: 'list' object is not callable"
     ]
    }
   ],
   "source": [
    "list(range(10))"
   ]
  },
  {
   "cell_type": "code",
   "execution_count": 249,
   "id": "ffaa4cf3-2940-4ac3-8959-a6c8e03eb868",
   "metadata": {},
   "outputs": [],
   "source": [
    "# list Comprehension"
   ]
  },
  {
   "cell_type": "code",
   "execution_count": 250,
   "id": "644f73df-a103-4168-8ed5-bf96708b3710",
   "metadata": {},
   "outputs": [],
   "source": [
    "x = [1,2,3,4]"
   ]
  },
  {
   "cell_type": "code",
   "execution_count": 251,
   "id": "d13ab9c6-6b53-4026-885a-92c4465e6c07",
   "metadata": {},
   "outputs": [],
   "source": [
    "out = []"
   ]
  },
  {
   "cell_type": "code",
   "execution_count": 252,
   "id": "7c936e94-ee1e-407b-b3fe-94069265c154",
   "metadata": {},
   "outputs": [],
   "source": [
    "for num in x: \n",
    "    out.append(num**2)"
   ]
  },
  {
   "cell_type": "code",
   "execution_count": 253,
   "id": "aac3e0e0-4fd9-456c-a9d1-c36e0f7b9c4f",
   "metadata": {},
   "outputs": [
    {
     "data": {
      "text/plain": [
       "[1, 4, 9, 16]"
      ]
     },
     "execution_count": 253,
     "metadata": {},
     "output_type": "execute_result"
    }
   ],
   "source": [
    "out"
   ]
  },
  {
   "cell_type": "code",
   "execution_count": 254,
   "id": "7e084a2a-449e-4364-ba05-acf2f61dba1b",
   "metadata": {},
   "outputs": [],
   "source": [
    "new_out = [num**2 for num in x]"
   ]
  },
  {
   "cell_type": "code",
   "execution_count": 255,
   "id": "9da7e11c-c37b-4e6a-b549-0d947662aa3b",
   "metadata": {},
   "outputs": [
    {
     "data": {
      "text/plain": [
       "[1, 4, 9, 16]"
      ]
     },
     "execution_count": 255,
     "metadata": {},
     "output_type": "execute_result"
    }
   ],
   "source": [
    "new_out"
   ]
  },
  {
   "cell_type": "markdown",
   "id": "e434c3f5-5102-42d6-b717-8afbd0f6090a",
   "metadata": {},
   "source": [
    "# Functions"
   ]
  },
  {
   "cell_type": "code",
   "execution_count": null,
   "id": "802d238a-17b5-4318-a591-141d89efc065",
   "metadata": {},
   "outputs": [],
   "source": [
    "def my_func(p1):\n",
    "    print(p1 + ' name')\n",
    "\n",
    "my_func('Will')"
   ]
  },
  {
   "cell_type": "code",
   "execution_count": null,
   "id": "3aa29b40-515d-4db6-bc80-a64d95d435f5",
   "metadata": {},
   "outputs": [],
   "source": [
    "# Default Params\n",
    "\n",
    "def my_func(p1='Admin'):\n",
    "    print(p1 + ' Sup')\n",
    "\n",
    "my_func()"
   ]
  },
  {
   "cell_type": "code",
   "execution_count": null,
   "id": "96ce5e19-e0a2-4650-8447-f2ebafdc9c1a",
   "metadata": {},
   "outputs": [],
   "source": [
    "# Return Values\n",
    "\n",
    "def square(num):\n",
    "    return num**2\n",
    "\n",
    "new_num = square(10)\n",
    "\n",
    "new_num"
   ]
  },
  {
   "cell_type": "markdown",
   "id": "874c2344-cf09-469c-8eb5-e2da2e3950eb",
   "metadata": {},
   "source": [
    "# Lambda, Map & Filter"
   ]
  },
  {
   "cell_type": "code",
   "execution_count": null,
   "id": "f4168823-2f1c-490c-b4b4-0cf5552841b0",
   "metadata": {},
   "outputs": [],
   "source": [
    "def times2(var): \n",
    "    return var*2"
   ]
  },
  {
   "cell_type": "code",
   "execution_count": null,
   "id": "1231e59c-d307-4cf1-b658-fa3b8271d733",
   "metadata": {},
   "outputs": [],
   "source": [
    "times2(5)"
   ]
  },
  {
   "cell_type": "code",
   "execution_count": null,
   "id": "f245eab9-f736-47af-9853-05aa9ca74a55",
   "metadata": {},
   "outputs": [],
   "source": [
    "s = [1,2,3,4,5]"
   ]
  },
  {
   "cell_type": "code",
   "execution_count": null,
   "id": "307c3fdb-5947-4dad-930f-9dbef1227992",
   "metadata": {},
   "outputs": [],
   "source": [
    "# map ()\n",
    "\n",
    "new_s = list(map(times2, s))\n",
    "new_s"
   ]
  },
  {
   "cell_type": "code",
   "execution_count": null,
   "id": "c71fa2aa-ecd2-4060-99b8-51dc920f6140",
   "metadata": {},
   "outputs": [],
   "source": [
    "# Lambda"
   ]
  },
  {
   "cell_type": "code",
   "execution_count": null,
   "id": "0adbded0-8ab0-40bb-82c3-02d7acbb9b93",
   "metadata": {},
   "outputs": [],
   "source": [
    "t = lambda var:var*3\n",
    "t(6)"
   ]
  },
  {
   "cell_type": "code",
   "execution_count": null,
   "id": "158ee21c-f1c9-4db5-b1cf-0a978c554d83",
   "metadata": {},
   "outputs": [],
   "source": [
    "# Use Cases -> basic arthmetic\n",
    "list(map(lambda num:num*3, s))"
   ]
  },
  {
   "cell_type": "code",
   "execution_count": null,
   "id": "131848f0-dd1a-49dd-bf5e-b17236a22bf9",
   "metadata": {},
   "outputs": [],
   "source": [
    "# filter() -> Filter out values"
   ]
  },
  {
   "cell_type": "code",
   "execution_count": null,
   "id": "ca28a88d-bbe9-4e00-815f-c6f97b042bfa",
   "metadata": {},
   "outputs": [],
   "source": [
    "filt = list(filter(lambda num: num%2 == 0, s)) # returns only evens\n",
    "filt"
   ]
  },
  {
   "cell_type": "code",
   "execution_count": null,
   "id": "3f548302-f4db-4909-aeb2-681b74cc6589",
   "metadata": {},
   "outputs": [],
   "source": [
    "name = 'William'"
   ]
  },
  {
   "cell_type": "code",
   "execution_count": null,
   "id": "10bcf7e5-9559-4fd4-a4b0-2eaa37fd7e80",
   "metadata": {},
   "outputs": [],
   "source": [
    "name.upper()"
   ]
  },
  {
   "cell_type": "code",
   "execution_count": null,
   "id": "aa156773-87b9-4e34-b89b-693d340bba44",
   "metadata": {},
   "outputs": [],
   "source": [
    "name.lower()"
   ]
  },
  {
   "cell_type": "code",
   "execution_count": null,
   "id": "fcd00f35-932f-48ab-ae59-bd029838526c",
   "metadata": {},
   "outputs": [],
   "source": [
    "name.split() # Split the string of all whitespace"
   ]
  },
  {
   "cell_type": "code",
   "execution_count": null,
   "id": "531eba48-b697-41d7-b871-58a929f9a75a",
   "metadata": {},
   "outputs": [],
   "source": [
    "tweet = 'Go Sports! #Sports'"
   ]
  },
  {
   "cell_type": "code",
   "execution_count": null,
   "id": "8b52bfcc-0444-4a3a-8e02-02957a7fd19e",
   "metadata": {},
   "outputs": [],
   "source": [
    "tweet.split('#')[1]"
   ]
  },
  {
   "cell_type": "code",
   "execution_count": null,
   "id": "995a1538-9948-42ed-aa8c-e454d6ee267f",
   "metadata": {},
   "outputs": [],
   "source": [
    "dict = {'k1':1, 'k2':2}"
   ]
  },
  {
   "cell_type": "code",
   "execution_count": null,
   "id": "21c3bffd-fc1f-4287-b45d-b0bf27b94b45",
   "metadata": {},
   "outputs": [],
   "source": [
    "dict.keys()"
   ]
  },
  {
   "cell_type": "code",
   "execution_count": null,
   "id": "172fba9a-cfb5-4308-8c12-a60a30d743d2",
   "metadata": {},
   "outputs": [],
   "source": [
    "dict.items()"
   ]
  },
  {
   "cell_type": "code",
   "execution_count": null,
   "id": "f1e19a2a-64f2-43c5-b82a-96143b8da74b",
   "metadata": {},
   "outputs": [],
   "source": [
    "dict.values()"
   ]
  },
  {
   "cell_type": "code",
   "execution_count": null,
   "id": "f31d2a07-8688-42ec-b097-2f3947354dc1",
   "metadata": {},
   "outputs": [],
   "source": [
    "list = [1,2,3]"
   ]
  },
  {
   "cell_type": "code",
   "execution_count": null,
   "id": "318770b1-9882-44a3-856e-21e0076c11d6",
   "metadata": {},
   "outputs": [],
   "source": [
    "list.pop() # remove item from lists"
   ]
  },
  {
   "cell_type": "code",
   "execution_count": null,
   "id": "eb58d40f-ea4a-4cdb-bffc-fecd95039294",
   "metadata": {},
   "outputs": [],
   "source": [
    "list"
   ]
  },
  {
   "cell_type": "code",
   "execution_count": null,
   "id": "107e6e33-3c4f-4247-ba69-eb585c8e870a",
   "metadata": {},
   "outputs": [],
   "source": [
    "# pass a popped values with index\n",
    "\n",
    "first = list.pop(0) \n",
    "first"
   ]
  },
  {
   "cell_type": "code",
   "execution_count": null,
   "id": "b3468592-363e-4d97-ad48-7d8cc7ab2d3a",
   "metadata": {},
   "outputs": [],
   "source": [
    "# in operator"
   ]
  },
  {
   "cell_type": "code",
   "execution_count": null,
   "id": "0438951e-4bab-489f-b24a-4e87b8f3274e",
   "metadata": {},
   "outputs": [],
   "source": [
    "'x' in [1,2,3,'x']"
   ]
  },
  {
   "cell_type": "code",
   "execution_count": null,
   "id": "c666d50a-67f1-48e0-9ce8-e9296c59abe4",
   "metadata": {},
   "outputs": [],
   "source": [
    "# Tuple Unpacking\n",
    "x = [(1,2), (3,4), (5,6)]"
   ]
  },
  {
   "cell_type": "code",
   "execution_count": null,
   "id": "b62c878b-88d6-4f55-9963-b53f16acd098",
   "metadata": {},
   "outputs": [],
   "source": [
    "for item in x: \n",
    "    print(item)"
   ]
  },
  {
   "cell_type": "code",
   "execution_count": null,
   "id": "74e1145e-2ded-4eaf-83ed-512fbea8e9a8",
   "metadata": {},
   "outputs": [],
   "source": [
    "for a,b in x: \n",
    "    print(a,b)\n",
    "print('\\n')\n",
    "for (a,b) in x: \n",
    "    print(a)"
   ]
  },
  {
   "cell_type": "code",
   "execution_count": null,
   "id": "33e8dd9d-79a6-4f48-b58c-6099a21dbb0f",
   "metadata": {},
   "outputs": [],
   "source": []
  },
  {
   "cell_type": "code",
   "execution_count": null,
   "id": "b7653c53-1287-4f55-94cf-81607fbfe417",
   "metadata": {},
   "outputs": [],
   "source": []
  }
 ],
 "metadata": {
  "kernelspec": {
   "display_name": "Python 3 (ipykernel)",
   "language": "python",
   "name": "python3"
  },
  "language_info": {
   "codemirror_mode": {
    "name": "ipython",
    "version": 3
   },
   "file_extension": ".py",
   "mimetype": "text/x-python",
   "name": "python",
   "nbconvert_exporter": "python",
   "pygments_lexer": "ipython3",
   "version": "3.11.7"
  }
 },
 "nbformat": 4,
 "nbformat_minor": 5
}
